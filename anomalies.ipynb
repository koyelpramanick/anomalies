{
 "cells": [
  {
   "cell_type": "code",
   "execution_count": 1,
   "metadata": {},
   "outputs": [],
   "source": [
    "#Importing necessary libraries\n",
    "import numpy as np\n",
    "import pandas as pd\n",
    "from matplotlib import pyplot as plt\n",
    "\n",
    "#library for Anomaly Detection\n",
    "from sklearn.neighbors import LocalOutlierFactor\n",
    "\n",
    "#ignoring warnings\n",
    "import warnings\n",
    "warnings.filterwarnings('ignore')"
   ]
  },
  {
   "cell_type": "code",
   "execution_count": 2,
   "metadata": {},
   "outputs": [],
   "source": [
    "#reading data from cpu_utilization csv file, making date as index\n",
    "\n",
    "cpu_df = pd.read_csv('ec2_cpu_utilization_24ae8d.csv', parse_dates = ['timestamp'], index_col = ['timestamp'])\n",
    "cpu_df['value'] = cpu_df['value'].astype(float)\n",
    "cpu_df.index = pd.to_datetime(cpu_df.index)"
   ]
  },
  {
   "cell_type": "code",
   "execution_count": 3,
   "metadata": {},
   "outputs": [
    {
     "data": {
      "text/html": [
       "<div>\n",
       "<style scoped>\n",
       "    .dataframe tbody tr th:only-of-type {\n",
       "        vertical-align: middle;\n",
       "    }\n",
       "\n",
       "    .dataframe tbody tr th {\n",
       "        vertical-align: top;\n",
       "    }\n",
       "\n",
       "    .dataframe thead th {\n",
       "        text-align: right;\n",
       "    }\n",
       "</style>\n",
       "<table border=\"1\" class=\"dataframe\">\n",
       "  <thead>\n",
       "    <tr style=\"text-align: right;\">\n",
       "      <th></th>\n",
       "      <th>value</th>\n",
       "    </tr>\n",
       "    <tr>\n",
       "      <th>timestamp</th>\n",
       "      <th></th>\n",
       "    </tr>\n",
       "  </thead>\n",
       "  <tbody>\n",
       "    <tr>\n",
       "      <th>2014-02-14 14:30:00</th>\n",
       "      <td>0.132</td>\n",
       "    </tr>\n",
       "    <tr>\n",
       "      <th>2014-02-14 14:35:00</th>\n",
       "      <td>0.134</td>\n",
       "    </tr>\n",
       "    <tr>\n",
       "      <th>2014-02-14 14:40:00</th>\n",
       "      <td>0.134</td>\n",
       "    </tr>\n",
       "    <tr>\n",
       "      <th>2014-02-14 14:45:00</th>\n",
       "      <td>0.134</td>\n",
       "    </tr>\n",
       "    <tr>\n",
       "      <th>2014-02-14 14:50:00</th>\n",
       "      <td>0.134</td>\n",
       "    </tr>\n",
       "    <tr>\n",
       "      <th>...</th>\n",
       "      <td>...</td>\n",
       "    </tr>\n",
       "    <tr>\n",
       "      <th>2014-02-28 14:05:00</th>\n",
       "      <td>0.132</td>\n",
       "    </tr>\n",
       "    <tr>\n",
       "      <th>2014-02-28 14:10:00</th>\n",
       "      <td>0.134</td>\n",
       "    </tr>\n",
       "    <tr>\n",
       "      <th>2014-02-28 14:15:00</th>\n",
       "      <td>0.134</td>\n",
       "    </tr>\n",
       "    <tr>\n",
       "      <th>2014-02-28 14:20:00</th>\n",
       "      <td>0.134</td>\n",
       "    </tr>\n",
       "    <tr>\n",
       "      <th>2014-02-28 14:25:00</th>\n",
       "      <td>0.134</td>\n",
       "    </tr>\n",
       "  </tbody>\n",
       "</table>\n",
       "<p>4032 rows × 1 columns</p>\n",
       "</div>"
      ],
      "text/plain": [
       "                     value\n",
       "timestamp                 \n",
       "2014-02-14 14:30:00  0.132\n",
       "2014-02-14 14:35:00  0.134\n",
       "2014-02-14 14:40:00  0.134\n",
       "2014-02-14 14:45:00  0.134\n",
       "2014-02-14 14:50:00  0.134\n",
       "...                    ...\n",
       "2014-02-28 14:05:00  0.132\n",
       "2014-02-28 14:10:00  0.134\n",
       "2014-02-28 14:15:00  0.134\n",
       "2014-02-28 14:20:00  0.134\n",
       "2014-02-28 14:25:00  0.134\n",
       "\n",
       "[4032 rows x 1 columns]"
      ]
     },
     "metadata": {},
     "output_type": "display_data"
    }
   ],
   "source": [
    "display(cpu_df)"
   ]
  },
  {
   "cell_type": "markdown",
   "metadata": {},
   "source": [
    "The value column in above dataset has AWS server metrics as collected by the AmazonCloudwatch service,it includes CPU Utilization every 5 mins."
   ]
  },
  {
   "cell_type": "code",
   "execution_count": 4,
   "metadata": {},
   "outputs": [
    {
     "data": {
      "text/html": [
       "<div>\n",
       "<style scoped>\n",
       "    .dataframe tbody tr th:only-of-type {\n",
       "        vertical-align: middle;\n",
       "    }\n",
       "\n",
       "    .dataframe tbody tr th {\n",
       "        vertical-align: top;\n",
       "    }\n",
       "\n",
       "    .dataframe thead th {\n",
       "        text-align: right;\n",
       "    }\n",
       "</style>\n",
       "<table border=\"1\" class=\"dataframe\">\n",
       "  <thead>\n",
       "    <tr style=\"text-align: right;\">\n",
       "      <th></th>\n",
       "      <th>value</th>\n",
       "    </tr>\n",
       "  </thead>\n",
       "  <tbody>\n",
       "    <tr>\n",
       "      <th>count</th>\n",
       "      <td>4032.000000</td>\n",
       "    </tr>\n",
       "    <tr>\n",
       "      <th>mean</th>\n",
       "      <td>0.126303</td>\n",
       "    </tr>\n",
       "    <tr>\n",
       "      <th>std</th>\n",
       "      <td>0.094813</td>\n",
       "    </tr>\n",
       "    <tr>\n",
       "      <th>min</th>\n",
       "      <td>0.066000</td>\n",
       "    </tr>\n",
       "    <tr>\n",
       "      <th>25%</th>\n",
       "      <td>0.132000</td>\n",
       "    </tr>\n",
       "    <tr>\n",
       "      <th>50%</th>\n",
       "      <td>0.134000</td>\n",
       "    </tr>\n",
       "    <tr>\n",
       "      <th>75%</th>\n",
       "      <td>0.134000</td>\n",
       "    </tr>\n",
       "    <tr>\n",
       "      <th>max</th>\n",
       "      <td>2.344000</td>\n",
       "    </tr>\n",
       "  </tbody>\n",
       "</table>\n",
       "</div>"
      ],
      "text/plain": [
       "             value\n",
       "count  4032.000000\n",
       "mean      0.126303\n",
       "std       0.094813\n",
       "min       0.066000\n",
       "25%       0.132000\n",
       "50%       0.134000\n",
       "75%       0.134000\n",
       "max       2.344000"
      ]
     },
     "metadata": {},
     "output_type": "display_data"
    }
   ],
   "source": [
    "display(cpu_df.describe())"
   ]
  },
  {
   "cell_type": "code",
   "execution_count": 5,
   "metadata": {},
   "outputs": [
    {
     "name": "stdout",
     "output_type": "stream",
     "text": [
      "<class 'pandas.core.frame.DataFrame'>\n",
      "DatetimeIndex: 4032 entries, 2014-02-14 14:30:00 to 2014-02-28 14:25:00\n",
      "Data columns (total 1 columns):\n",
      "value    4032 non-null float64\n",
      "dtypes: float64(1)\n",
      "memory usage: 63.0 KB\n"
     ]
    },
    {
     "data": {
      "text/plain": [
       "None"
      ]
     },
     "metadata": {},
     "output_type": "display_data"
    }
   ],
   "source": [
    "display(cpu_df.info())"
   ]
  },
  {
   "cell_type": "markdown",
   "metadata": {},
   "source": [
    "I will build a scatterplot that will allow me to visualize the data and help me find the anomalies,if any."
   ]
  },
  {
   "cell_type": "code",
   "execution_count": 6,
   "metadata": {},
   "outputs": [
    {
     "data": {
      "text/plain": [
       "Text(0.5, 1.0, 'AWS Cloudwatch CPU Utilization')"
      ]
     },
     "execution_count": 6,
     "metadata": {},
     "output_type": "execute_result"
    },
    {
     "data": {
      "image/png": "[encoded data removed]",
      "text/plain": [
       "<Figure size 1440x720 with 1 Axes>"
      ]
     },
     "metadata": {
      "needs_background": "light"
     },
     "output_type": "display_data"
    }
   ],
   "source": [
    "#plotting graph to visualize the data\n",
    "plt.figure(figsize=(20,10))\n",
    "plt.xlabel('timestamp')\n",
    "plt.ylabel('CPU Utilization')\n",
    "plt.plot_date(cpu_df.index, cpu_df.value, markersize=3)\n",
    "plt.title('AWS Cloudwatch CPU Utilization')"
   ]
  },
  {
   "cell_type": "markdown",
   "metadata": {},
   "source": [
    "We can already see some points that seem to be the outliers. For example after 2014-02-15 there is a value close to 1.5. There are a couple of points around 1.5 which can be treated as anomalies.\n",
    "\n",
    "However, this graph has too much data, it would be better to see the trend if we can group the values by the hour and average them."
   ]
  },
  {
   "cell_type": "code",
   "execution_count": 7,
   "metadata": {},
   "outputs": [],
   "source": [
    "#function for Identifying outliers\n",
    "def detect_outlier(data_1):\n",
    "    outliers_dates=[]\n",
    "    outliers=[]\n",
    "    threshold=3\n",
    "    \n",
    "    mean_1 = np.mean(data_1.value)\n",
    "    std_1 =np.std(data_1.value)\n",
    "    \n",
    "    for x, y in zip(data_1.index, data_1.value):\n",
    "        z_score= (y - mean_1)/std_1 \n",
    "        if np.abs(z_score) > threshold:\n",
    "            outliers_dates.append(x)\n",
    "            outliers.append(y)\n",
    "            \n",
    "    return outliers_dates, outliers"
   ]
  },
  {
   "cell_type": "markdown",
   "metadata": {},
   "source": [
    "The above function is for identifying the outliers in the dataset.\n",
    "\n",
    "---\n",
    "I'm going to group the cpu-utilization dataset hourwise so the trend will be clearer.\n",
    "After that I'll find the outliers from the new dataset and plot the scatter-graph to visualize the anomalies.\n"
   ]
  },
  {
   "cell_type": "code",
   "execution_count": 8,
   "metadata": {},
   "outputs": [
    {
     "data": {
      "text/html": [
       "<div>\n",
       "<style scoped>\n",
       "    .dataframe tbody tr th:only-of-type {\n",
       "        vertical-align: middle;\n",
       "    }\n",
       "\n",
       "    .dataframe tbody tr th {\n",
       "        vertical-align: top;\n",
       "    }\n",
       "\n",
       "    .dataframe thead th {\n",
       "        text-align: right;\n",
       "    }\n",
       "</style>\n",
       "<table border=\"1\" class=\"dataframe\">\n",
       "  <thead>\n",
       "    <tr style=\"text-align: right;\">\n",
       "      <th></th>\n",
       "      <th>value</th>\n",
       "    </tr>\n",
       "    <tr>\n",
       "      <th>timestamp</th>\n",
       "      <th></th>\n",
       "    </tr>\n",
       "  </thead>\n",
       "  <tbody>\n",
       "    <tr>\n",
       "      <th>2014-02-14 14:00:00</th>\n",
       "      <td>0.133667</td>\n",
       "    </tr>\n",
       "    <tr>\n",
       "      <th>2014-02-14 15:00:00</th>\n",
       "      <td>0.122333</td>\n",
       "    </tr>\n",
       "    <tr>\n",
       "      <th>2014-02-14 16:00:00</th>\n",
       "      <td>0.122667</td>\n",
       "    </tr>\n",
       "    <tr>\n",
       "      <th>2014-02-14 17:00:00</th>\n",
       "      <td>0.133667</td>\n",
       "    </tr>\n",
       "    <tr>\n",
       "      <th>2014-02-14 18:00:00</th>\n",
       "      <td>0.128333</td>\n",
       "    </tr>\n",
       "    <tr>\n",
       "      <th>...</th>\n",
       "      <td>...</td>\n",
       "    </tr>\n",
       "    <tr>\n",
       "      <th>2014-02-28 10:00:00</th>\n",
       "      <td>0.117500</td>\n",
       "    </tr>\n",
       "    <tr>\n",
       "      <th>2014-02-28 11:00:00</th>\n",
       "      <td>0.128167</td>\n",
       "    </tr>\n",
       "    <tr>\n",
       "      <th>2014-02-28 12:00:00</th>\n",
       "      <td>0.116833</td>\n",
       "    </tr>\n",
       "    <tr>\n",
       "      <th>2014-02-28 13:00:00</th>\n",
       "      <td>0.122333</td>\n",
       "    </tr>\n",
       "    <tr>\n",
       "      <th>2014-02-28 14:00:00</th>\n",
       "      <td>0.133333</td>\n",
       "    </tr>\n",
       "  </tbody>\n",
       "</table>\n",
       "<p>337 rows × 1 columns</p>\n",
       "</div>"
      ],
      "text/plain": [
       "                        value\n",
       "timestamp                    \n",
       "2014-02-14 14:00:00  0.133667\n",
       "2014-02-14 15:00:00  0.122333\n",
       "2014-02-14 16:00:00  0.122667\n",
       "2014-02-14 17:00:00  0.133667\n",
       "2014-02-14 18:00:00  0.128333\n",
       "...                       ...\n",
       "2014-02-28 10:00:00  0.117500\n",
       "2014-02-28 11:00:00  0.128167\n",
       "2014-02-28 12:00:00  0.116833\n",
       "2014-02-28 13:00:00  0.122333\n",
       "2014-02-28 14:00:00  0.133333\n",
       "\n",
       "[337 rows x 1 columns]"
      ]
     },
     "metadata": {},
     "output_type": "display_data"
    }
   ],
   "source": [
    "cpu_df = cpu_df.groupby(pd.Grouper(freq='H')).mean()\n",
    "\n",
    "display(cpu_df)"
   ]
  },
  {
   "cell_type": "markdown",
   "metadata": {},
   "source": [
    "I'm going to apply 'Skyline Anomaly Detection' on this dataset because it is an algorithm which can be used to automatically find out what it means for each metric to be anomalous. Once set up and running, Skyline allows the user to train it what is not anomalous on a per metric basis."
   ]
  },
  {
   "cell_type": "code",
   "execution_count": 9,
   "metadata": {},
   "outputs": [
    {
     "data": {
      "text/plain": [
       "Text(0.5, 1.0, 'Skyline Anomaly Detection on \\nAWS Cloudwatch CPU Utilization')"
      ]
     },
     "execution_count": 9,
     "metadata": {},
     "output_type": "execute_result"
    },
    {
     "data": {
      "image/png": "[encoded data removed]",
      "text/plain": [
       "<Figure size 1440x720 with 1 Axes>"
      ]
     },
     "metadata": {
      "needs_background": "light"
     },
     "output_type": "display_data"
    }
   ],
   "source": [
    "'''\n",
    "Skyline Anomaly Detection\n",
    "'''\n",
    "\n",
    "#Identifying outliers in the dataframe\n",
    "out_lier_date , out_lier = detect_outlier(cpu_df)\n",
    "\n",
    "min_outlier = min(out_lier)\n",
    "sorted_value = sorted(cpu_df.value)\n",
    "\n",
    "#getting predecessor of minimum outlier value\n",
    "p=0\n",
    "for v in sorted_value:\n",
    "    if v==min_outlier:\n",
    "        break\n",
    "    else:\n",
    "        p=v   \n",
    "\n",
    "#plotting graph\n",
    "plt.figure(figsize=(20,10))\n",
    "plt.xlabel('timestamp')\n",
    "plt.ylabel('CPU')\n",
    "#plotting values\n",
    "plt.plot_date(cpu_df.index, cpu_df.value, markersize=2)\n",
    "#plotting outliers\n",
    "plt.plot_date(out_lier_date, out_lier, c='red', markersize=5)\n",
    "plt.axhline(p, color='black', linestyle='--')\n",
    "plt.title('Skyline Anomaly Detection on \\nAWS Cloudwatch CPU Utilization')"
   ]
  },
  {
   "cell_type": "markdown",
   "metadata": {},
   "source": [
    "We can see that there are some anomalies(red dots) in the new dataset.\n",
    "\n",
    "The black horizontal line shows detected anomalous datapoints.\n",
    "\n",
    "This anomaly detection is useful to find out the threshold of a data for example if the cpu utilzation is going beyond the Anomalous datapoint line, it can provide a message or warning.\n",
    "\n",
    "---\n",
    "Now, I'm going to apply Local-outlier Factor on the another dataset i.e Amazon EC2 Network reading bytes. Local Outlier Factor compares local density to density of neighbors which is helpful to identify loosely connected data points which are more likely to be outliers."
   ]
  },
  {
   "cell_type": "code",
   "execution_count": 10,
   "metadata": {},
   "outputs": [],
   "source": [
    "'''\n",
    "Local-Outlier Factor\n",
    "'''\n",
    "#reading Network Bytes In data from csv file, making date as index\n",
    "\n",
    "net_df = pd.read_csv('ec2_network_in_5abac7.csv', parse_dates = ['timestamp'], index_col = ['timestamp'])\n",
    "net_df['value'] = net_df['value'].astype(float)\n",
    "net_df.index = pd.to_datetime(net_df.index)\n",
    "\n",
    "#Dropping zero values\n",
    "net_df = net_df[(net_df.T != 0).any()]\n"
   ]
  },
  {
   "cell_type": "code",
   "execution_count": 11,
   "metadata": {},
   "outputs": [
    {
     "data": {
      "text/html": [
       "<div>\n",
       "<style scoped>\n",
       "    .dataframe tbody tr th:only-of-type {\n",
       "        vertical-align: middle;\n",
       "    }\n",
       "\n",
       "    .dataframe tbody tr th {\n",
       "        vertical-align: top;\n",
       "    }\n",
       "\n",
       "    .dataframe thead th {\n",
       "        text-align: right;\n",
       "    }\n",
       "</style>\n",
       "<table border=\"1\" class=\"dataframe\">\n",
       "  <thead>\n",
       "    <tr style=\"text-align: right;\">\n",
       "      <th></th>\n",
       "      <th>value</th>\n",
       "    </tr>\n",
       "    <tr>\n",
       "      <th>timestamp</th>\n",
       "      <th></th>\n",
       "    </tr>\n",
       "  </thead>\n",
       "  <tbody>\n",
       "    <tr>\n",
       "      <th>2014-03-01 17:36:00</th>\n",
       "      <td>42.0</td>\n",
       "    </tr>\n",
       "    <tr>\n",
       "      <th>2014-03-01 17:41:00</th>\n",
       "      <td>94.8</td>\n",
       "    </tr>\n",
       "    <tr>\n",
       "      <th>2014-03-01 17:46:00</th>\n",
       "      <td>42.0</td>\n",
       "    </tr>\n",
       "    <tr>\n",
       "      <th>2014-03-01 17:51:00</th>\n",
       "      <td>68.4</td>\n",
       "    </tr>\n",
       "    <tr>\n",
       "      <th>2014-03-01 17:56:00</th>\n",
       "      <td>68.4</td>\n",
       "    </tr>\n",
       "    <tr>\n",
       "      <th>...</th>\n",
       "      <td>...</td>\n",
       "    </tr>\n",
       "    <tr>\n",
       "      <th>2014-03-18 03:21:00</th>\n",
       "      <td>42.0</td>\n",
       "    </tr>\n",
       "    <tr>\n",
       "      <th>2014-03-18 03:26:00</th>\n",
       "      <td>42.0</td>\n",
       "    </tr>\n",
       "    <tr>\n",
       "      <th>2014-03-18 03:31:00</th>\n",
       "      <td>118.5</td>\n",
       "    </tr>\n",
       "    <tr>\n",
       "      <th>2014-03-18 03:36:00</th>\n",
       "      <td>75.0</td>\n",
       "    </tr>\n",
       "    <tr>\n",
       "      <th>2014-03-18 03:41:00</th>\n",
       "      <td>75.0</td>\n",
       "    </tr>\n",
       "  </tbody>\n",
       "</table>\n",
       "<p>4730 rows × 1 columns</p>\n",
       "</div>"
      ],
      "text/plain": [
       "                     value\n",
       "timestamp                 \n",
       "2014-03-01 17:36:00   42.0\n",
       "2014-03-01 17:41:00   94.8\n",
       "2014-03-01 17:46:00   42.0\n",
       "2014-03-01 17:51:00   68.4\n",
       "2014-03-01 17:56:00   68.4\n",
       "...                    ...\n",
       "2014-03-18 03:21:00   42.0\n",
       "2014-03-18 03:26:00   42.0\n",
       "2014-03-18 03:31:00  118.5\n",
       "2014-03-18 03:36:00   75.0\n",
       "2014-03-18 03:41:00   75.0\n",
       "\n",
       "[4730 rows x 1 columns]"
      ]
     },
     "metadata": {},
     "output_type": "display_data"
    }
   ],
   "source": [
    "display(net_df)"
   ]
  },
  {
   "cell_type": "markdown",
   "metadata": {},
   "source": [
    "The value column in above dataset has AWS network server metrics as collected by the AmazonCloudwatch service, it records Network reading bytes every 5 mins."
   ]
  },
  {
   "cell_type": "code",
   "execution_count": 12,
   "metadata": {},
   "outputs": [
    {
     "data": {
      "text/html": [
       "<div>\n",
       "<style scoped>\n",
       "    .dataframe tbody tr th:only-of-type {\n",
       "        vertical-align: middle;\n",
       "    }\n",
       "\n",
       "    .dataframe tbody tr th {\n",
       "        vertical-align: top;\n",
       "    }\n",
       "\n",
       "    .dataframe thead th {\n",
       "        text-align: right;\n",
       "    }\n",
       "</style>\n",
       "<table border=\"1\" class=\"dataframe\">\n",
       "  <thead>\n",
       "    <tr style=\"text-align: right;\">\n",
       "      <th></th>\n",
       "      <th>value</th>\n",
       "    </tr>\n",
       "  </thead>\n",
       "  <tbody>\n",
       "    <tr>\n",
       "      <th>count</th>\n",
       "      <td>4.730000e+03</td>\n",
       "    </tr>\n",
       "    <tr>\n",
       "      <th>mean</th>\n",
       "      <td>1.187146e+05</td>\n",
       "    </tr>\n",
       "    <tr>\n",
       "      <th>std</th>\n",
       "      <td>7.757187e+05</td>\n",
       "    </tr>\n",
       "    <tr>\n",
       "      <th>min</th>\n",
       "      <td>4.200000e+01</td>\n",
       "    </tr>\n",
       "    <tr>\n",
       "      <th>25%</th>\n",
       "      <td>4.200000e+01</td>\n",
       "    </tr>\n",
       "    <tr>\n",
       "      <th>50%</th>\n",
       "      <td>6.840000e+01</td>\n",
       "    </tr>\n",
       "    <tr>\n",
       "      <th>75%</th>\n",
       "      <td>1.080000e+02</td>\n",
       "    </tr>\n",
       "    <tr>\n",
       "      <th>max</th>\n",
       "      <td>8.285420e+06</td>\n",
       "    </tr>\n",
       "  </tbody>\n",
       "</table>\n",
       "</div>"
      ],
      "text/plain": [
       "              value\n",
       "count  4.730000e+03\n",
       "mean   1.187146e+05\n",
       "std    7.757187e+05\n",
       "min    4.200000e+01\n",
       "25%    4.200000e+01\n",
       "50%    6.840000e+01\n",
       "75%    1.080000e+02\n",
       "max    8.285420e+06"
      ]
     },
     "metadata": {},
     "output_type": "display_data"
    }
   ],
   "source": [
    "display(net_df.describe())"
   ]
  },
  {
   "cell_type": "code",
   "execution_count": 13,
   "metadata": {},
   "outputs": [
    {
     "name": "stdout",
     "output_type": "stream",
     "text": [
      "<class 'pandas.core.frame.DataFrame'>\n",
      "DatetimeIndex: 4730 entries, 2014-03-01 17:36:00 to 2014-03-18 03:41:00\n",
      "Data columns (total 1 columns):\n",
      "value    4730 non-null float64\n",
      "dtypes: float64(1)\n",
      "memory usage: 73.9 KB\n"
     ]
    },
    {
     "data": {
      "text/plain": [
       "None"
      ]
     },
     "metadata": {},
     "output_type": "display_data"
    }
   ],
   "source": [
    "display(net_df.info())"
   ]
  },
  {
   "cell_type": "code",
   "execution_count": 14,
   "metadata": {},
   "outputs": [
    {
     "data": {
      "image/png": "[encoded data removed]",
      "text/plain": [
       "<Figure size 1440x720 with 1 Axes>"
      ]
     },
     "metadata": {
      "needs_background": "light"
     },
     "output_type": "display_data"
    }
   ],
   "source": [
    "#creating dataset by merging dates with value column-wise\n",
    "X = np.c_[net_df.index.to_julian_date(), net_df.value]\n",
    "\n",
    "n_outliers = len(net_df.value)\n",
    "ground_truth = np.ones(len(X), dtype=int)\n",
    "ground_truth[-n_outliers:] = -1\n",
    "\n",
    "# fit the model for outlier detection (default)\n",
    "clf = LocalOutlierFactor(n_neighbors=20, contamination=0.1)\n",
    "# use fit_predict to compute the predicted labels of the training samples\n",
    "# (when LOF is used for outlier detection, the estimator has no predict,\n",
    "# decision_function and score_samples methods).\n",
    "y_pred = clf.fit_predict(X)\n",
    "\n",
    "n_errors = (y_pred != ground_truth).sum()\n",
    "X_scores = clf.negative_outlier_factor_\n",
    "\n",
    "plt.figure(figsize=(20,10))\n",
    "plt.title(\"Local Outlier Factor (LOF) on \\nAWS Cloudwatch Network Bytes In\")\n",
    "plt.scatter(X[:, 0], X[:, 1], color='k', s=3., label='Data points')\n",
    "# plot circles with radius proportional to the outlier scores\n",
    "radius = (X_scores.max() - X_scores) / (X_scores.max() - X_scores.min())\n",
    "plt.scatter(X[:, 0], X[:, 1], s=1000 * radius, edgecolors='r',\n",
    "            facecolors='none', label='Outlier scores')\n",
    "plt.axis('tight')\n",
    "plt.xlabel(\"prediction errors: %d\" % (n_errors))\n",
    "legend = plt.legend(loc='upper left')\n",
    "legend.legendHandles[0]._sizes = [10]\n",
    "legend.legendHandles[1]._sizes = [20]\n",
    "plt.show()"
   ]
  },
  {
   "cell_type": "markdown",
   "metadata": {},
   "source": [
    "The LOF algorithm is an unsupervised anomaly detection method.\n",
    "\n",
    "It computes the local density deviation of a given data point with respect to its neighbors which are mostly residing around zero(0) in the above graph and it considers as outliers the samples that have a substantially lower density than their neighbors which are mostly  residing above zero as we can see in the above graph.\n",
    " \n",
    "---\n",
    "Now, I'm going to apply another method 'IsolationForest' on the another dataset i.e Amazon EC2 Disk writes bytes.\n",
    "\n",
    "It uses multiple decision trees with random number of features used for splitting such that the Outliers will have short path lengths"
   ]
  },
  {
   "cell_type": "code",
   "execution_count": 15,
   "metadata": {},
   "outputs": [],
   "source": [
    "'''\n",
    "IsolationForest\n",
    "'''\n",
    "#reading Disk Read Bytes data from csv file, making date as index\n",
    "\n",
    "disk_df = pd.read_csv('ec2_disk_write_bytes_c0d644.csv', parse_dates = ['timestamp'], index_col = ['timestamp'])\n",
    "disk_df['value'] = disk_df['value'].astype(float)\n",
    "disk_df.index = pd.to_datetime(disk_df.index)\n",
    "\n",
    "disk_df = disk_df[(disk_df.T != 0).any()]\n"
   ]
  },
  {
   "cell_type": "code",
   "execution_count": 16,
   "metadata": {},
   "outputs": [
    {
     "data": {
      "text/html": [
       "<div>\n",
       "<style scoped>\n",
       "    .dataframe tbody tr th:only-of-type {\n",
       "        vertical-align: middle;\n",
       "    }\n",
       "\n",
       "    .dataframe tbody tr th {\n",
       "        vertical-align: top;\n",
       "    }\n",
       "\n",
       "    .dataframe thead th {\n",
       "        text-align: right;\n",
       "    }\n",
       "</style>\n",
       "<table border=\"1\" class=\"dataframe\">\n",
       "  <thead>\n",
       "    <tr style=\"text-align: right;\">\n",
       "      <th></th>\n",
       "      <th>value</th>\n",
       "    </tr>\n",
       "    <tr>\n",
       "      <th>timestamp</th>\n",
       "      <th></th>\n",
       "    </tr>\n",
       "  </thead>\n",
       "  <tbody>\n",
       "    <tr>\n",
       "      <th>2014-04-02 15:00:00</th>\n",
       "      <td>19949200.0</td>\n",
       "    </tr>\n",
       "    <tr>\n",
       "      <th>2014-04-02 15:05:00</th>\n",
       "      <td>48951300.0</td>\n",
       "    </tr>\n",
       "    <tr>\n",
       "      <th>2014-04-02 15:10:00</th>\n",
       "      <td>431199000.0</td>\n",
       "    </tr>\n",
       "    <tr>\n",
       "      <th>2014-04-02 15:15:00</th>\n",
       "      <td>36434700.0</td>\n",
       "    </tr>\n",
       "    <tr>\n",
       "      <th>2014-04-02 15:20:00</th>\n",
       "      <td>1558940.0</td>\n",
       "    </tr>\n",
       "    <tr>\n",
       "      <th>...</th>\n",
       "      <td>...</td>\n",
       "    </tr>\n",
       "    <tr>\n",
       "      <th>2014-04-16 10:15:00</th>\n",
       "      <td>2232320.0</td>\n",
       "    </tr>\n",
       "    <tr>\n",
       "      <th>2014-04-16 11:15:00</th>\n",
       "      <td>12288.0</td>\n",
       "    </tr>\n",
       "    <tr>\n",
       "      <th>2014-04-16 12:15:00</th>\n",
       "      <td>1885800.0</td>\n",
       "    </tr>\n",
       "    <tr>\n",
       "      <th>2014-04-16 12:20:00</th>\n",
       "      <td>400589.0</td>\n",
       "    </tr>\n",
       "    <tr>\n",
       "      <th>2014-04-16 13:20:00</th>\n",
       "      <td>12288.0</td>\n",
       "    </tr>\n",
       "  </tbody>\n",
       "</table>\n",
       "<p>776 rows × 1 columns</p>\n",
       "</div>"
      ],
      "text/plain": [
       "                           value\n",
       "timestamp                       \n",
       "2014-04-02 15:00:00   19949200.0\n",
       "2014-04-02 15:05:00   48951300.0\n",
       "2014-04-02 15:10:00  431199000.0\n",
       "2014-04-02 15:15:00   36434700.0\n",
       "2014-04-02 15:20:00    1558940.0\n",
       "...                          ...\n",
       "2014-04-16 10:15:00    2232320.0\n",
       "2014-04-16 11:15:00      12288.0\n",
       "2014-04-16 12:15:00    1885800.0\n",
       "2014-04-16 12:20:00     400589.0\n",
       "2014-04-16 13:20:00      12288.0\n",
       "\n",
       "[776 rows x 1 columns]"
      ]
     },
     "metadata": {},
     "output_type": "display_data"
    }
   ],
   "source": [
    "display(disk_df)"
   ]
  },
  {
   "cell_type": "markdown",
   "metadata": {},
   "source": [
    "The value column in above dataset has AWS EC2 metrics as collected by the AmazonCloudwatch service, records Disk Read bytes every 5 mins."
   ]
  },
  {
   "cell_type": "code",
   "execution_count": 17,
   "metadata": {},
   "outputs": [
    {
     "data": {
      "text/html": [
       "<div>\n",
       "<style scoped>\n",
       "    .dataframe tbody tr th:only-of-type {\n",
       "        vertical-align: middle;\n",
       "    }\n",
       "\n",
       "    .dataframe tbody tr th {\n",
       "        vertical-align: top;\n",
       "    }\n",
       "\n",
       "    .dataframe thead th {\n",
       "        text-align: right;\n",
       "    }\n",
       "</style>\n",
       "<table border=\"1\" class=\"dataframe\">\n",
       "  <thead>\n",
       "    <tr style=\"text-align: right;\">\n",
       "      <th></th>\n",
       "      <th>value</th>\n",
       "    </tr>\n",
       "  </thead>\n",
       "  <tbody>\n",
       "    <tr>\n",
       "      <th>count</th>\n",
       "      <td>7.760000e+02</td>\n",
       "    </tr>\n",
       "    <tr>\n",
       "      <th>mean</th>\n",
       "      <td>9.005115e+07</td>\n",
       "    </tr>\n",
       "    <tr>\n",
       "      <th>std</th>\n",
       "      <td>1.627247e+08</td>\n",
       "    </tr>\n",
       "    <tr>\n",
       "      <th>min</th>\n",
       "      <td>8.192000e+02</td>\n",
       "    </tr>\n",
       "    <tr>\n",
       "      <th>25%</th>\n",
       "      <td>9.330688e+05</td>\n",
       "    </tr>\n",
       "    <tr>\n",
       "      <th>50%</th>\n",
       "      <td>8.313240e+06</td>\n",
       "    </tr>\n",
       "    <tr>\n",
       "      <th>75%</th>\n",
       "      <td>1.031618e+08</td>\n",
       "    </tr>\n",
       "    <tr>\n",
       "      <th>max</th>\n",
       "      <td>8.639640e+08</td>\n",
       "    </tr>\n",
       "  </tbody>\n",
       "</table>\n",
       "</div>"
      ],
      "text/plain": [
       "              value\n",
       "count  7.760000e+02\n",
       "mean   9.005115e+07\n",
       "std    1.627247e+08\n",
       "min    8.192000e+02\n",
       "25%    9.330688e+05\n",
       "50%    8.313240e+06\n",
       "75%    1.031618e+08\n",
       "max    8.639640e+08"
      ]
     },
     "metadata": {},
     "output_type": "display_data"
    }
   ],
   "source": [
    "display(disk_df.describe())"
   ]
  },
  {
   "cell_type": "code",
   "execution_count": 18,
   "metadata": {},
   "outputs": [
    {
     "name": "stdout",
     "output_type": "stream",
     "text": [
      "<class 'pandas.core.frame.DataFrame'>\n",
      "DatetimeIndex: 776 entries, 2014-04-02 15:00:00 to 2014-04-16 13:20:00\n",
      "Data columns (total 1 columns):\n",
      "value    776 non-null float64\n",
      "dtypes: float64(1)\n",
      "memory usage: 12.1 KB\n"
     ]
    },
    {
     "data": {
      "text/plain": [
       "None"
      ]
     },
     "metadata": {},
     "output_type": "display_data"
    }
   ],
   "source": [
    "display(disk_df.info())"
   ]
  },
  {
   "cell_type": "code",
   "execution_count": 19,
   "metadata": {},
   "outputs": [
    {
     "data": {
      "text/plain": [
       "Text(0.5, 1.0, 'Isolation Forest on\\nAWS Cloudwatch Disk Read Bytes')"
      ]
     },
     "execution_count": 19,
     "metadata": {},
     "output_type": "execute_result"
    },
    {
     "data": {
      "image/png": "[encoded data removed]",
      "text/plain": [
       "<Figure size 1440x720 with 1 Axes>"
      ]
     },
     "metadata": {
      "needs_background": "light"
     },
     "output_type": "display_data"
    }
   ],
   "source": [
    "#Identifying outliers in the dataframe\n",
    "out_lier_date , out_lier = detect_outlier(disk_df)\n",
    "\n",
    "plt.figure(figsize=(20,10))\n",
    "plt.plot_date(disk_df.index, disk_df.value,color='blue', markersize=2)\n",
    "\n",
    "plt.plot_date(out_lier_date , out_lier,color='red')\n",
    "plt.xlim(disk_df.index[0], disk_df.index[-1])\n",
    "\n",
    "plt.xlabel('timestamp')\n",
    "plt.ylabel('network')\n",
    "plt.title('Isolation Forest on\\nAWS Cloudwatch Disk Read Bytes')"
   ]
  },
  {
   "cell_type": "markdown",
   "metadata": {},
   "source": [
    "Now  we can clearly see the anomalies in the above graph using IsolationForest.\n",
    "\n",
    "### Summary:\n",
    "---\n",
    "* Reading diffrent CSVs for applying different Anomaly Detection method.\n",
    "* First we took the CPU utilization data, made date its index.\n",
    "* Simply Plotted a graph to visualize the data.\n",
    "* Then I've grouped the data hour-wise so the trend will be clearer. \n",
    "* After that I've found out the outliers from the new dataset.\n",
    "* Applied Skyline Anomaly Detection on CPU utilization and plotted the scatter-grpah to visualize the anomalies.\n",
    "* Again read Network Bytes data from another CSV, and again made date its index.\n",
    "* Applied Local-Outlier Factor from sklearn library on Network Bytes data and plotted the scatter-graph.\n",
    "* After that, I've read Disk Read Bytes data from another CSV, amd for that too, made date its index.\n",
    "* And finally, Applied IsolationForest Anomaly Detection on Disk Read Bytes data and plotted the final graph."
   ]
  },
  {
   "cell_type": "code",
   "execution_count": null,
   "metadata": {},
   "outputs": [],
   "source": []
  }
 ],
 "metadata": {
  "kernelspec": {
   "display_name": "Python 3",
   "language": "python",
   "name": "python3"
  },
  "language_info": {
   "codemirror_mode": {
    "name": "ipython",
    "version": 3
   },
   "file_extension": ".py",
   "mimetype": "text/x-python",
   "name": "python",
   "nbconvert_exporter": "python",
   "pygments_lexer": "ipython3",
   "version": "3.7.3"
  }
 },
 "nbformat": 4,
 "nbformat_minor": 2
}
